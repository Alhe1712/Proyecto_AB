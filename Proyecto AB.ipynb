{
 "cells": [
  {
   "cell_type": "markdown",
   "metadata": {},
   "source": [
    "# Tienda Online"
   ]
  },
  {
   "cell_type": "code",
   "execution_count": 34,
   "metadata": {},
   "outputs": [],
   "source": [
    "import pandas as pd\n",
    "import numpy as np\n",
    "import matplotlib.pyplot as plt\n",
    "import scipy.stats as stats\n"
   ]
  },
  {
   "cell_type": "code",
   "execution_count": 35,
   "metadata": {},
   "outputs": [],
   "source": [
    "#NO DESCOMENTAR ESTA CELDA\n",
    "hypothesis=pd.read_csv('hypotheses_us.csv',sep=';')\n",
    "orders=pd.read_csv('orders_us.csv')\n",
    "visits=pd.read_csv('visits_us.csv')"
   ]
  },
  {
   "cell_type": "markdown",
   "metadata": {},
   "source": [
    "### Descripción de los datos"
   ]
  },
  {
   "cell_type": "code",
   "execution_count": 36,
   "metadata": {},
   "outputs": [
    {
     "name": "stdout",
     "output_type": "stream",
     "text": [
      "<class 'pandas.core.frame.DataFrame'>\n",
      "RangeIndex: 9 entries, 0 to 8\n",
      "Data columns (total 5 columns):\n",
      " #   Column      Non-Null Count  Dtype \n",
      "---  ------      --------------  ----- \n",
      " 0   Hypothesis  9 non-null      object\n",
      " 1   Reach       9 non-null      int64 \n",
      " 2   Impact      9 non-null      int64 \n",
      " 3   Confidence  9 non-null      int64 \n",
      " 4   Effort      9 non-null      int64 \n",
      "dtypes: int64(4), object(1)\n",
      "memory usage: 492.0+ bytes\n"
     ]
    }
   ],
   "source": [
    "hypothesis.info()"
   ]
  },
  {
   "cell_type": "code",
   "execution_count": 37,
   "metadata": {},
   "outputs": [
    {
     "name": "stdout",
     "output_type": "stream",
     "text": [
      "<class 'pandas.core.frame.DataFrame'>\n",
      "RangeIndex: 1197 entries, 0 to 1196\n",
      "Data columns (total 5 columns):\n",
      " #   Column         Non-Null Count  Dtype  \n",
      "---  ------         --------------  -----  \n",
      " 0   transactionId  1197 non-null   int64  \n",
      " 1   visitorId      1197 non-null   int64  \n",
      " 2   date           1197 non-null   object \n",
      " 3   revenue        1197 non-null   float64\n",
      " 4   group          1197 non-null   object \n",
      "dtypes: float64(1), int64(2), object(2)\n",
      "memory usage: 46.9+ KB\n"
     ]
    }
   ],
   "source": [
    "orders.info()"
   ]
  },
  {
   "cell_type": "code",
   "execution_count": 38,
   "metadata": {},
   "outputs": [
    {
     "name": "stdout",
     "output_type": "stream",
     "text": [
      "<class 'pandas.core.frame.DataFrame'>\n",
      "RangeIndex: 62 entries, 0 to 61\n",
      "Data columns (total 3 columns):\n",
      " #   Column  Non-Null Count  Dtype \n",
      "---  ------  --------------  ----- \n",
      " 0   date    62 non-null     object\n",
      " 1   group   62 non-null     object\n",
      " 2   visits  62 non-null     int64 \n",
      "dtypes: int64(1), object(2)\n",
      "memory usage: 1.6+ KB\n"
     ]
    }
   ],
   "source": [
    "visits.info()"
   ]
  },
  {
   "cell_type": "code",
   "execution_count": 39,
   "metadata": {},
   "outputs": [
    {
     "data": {
      "application/vnd.microsoft.datawrangler.viewer.v0+json": {
       "columns": [
        {
         "name": "index",
         "rawType": "int64",
         "type": "integer"
        },
        {
         "name": "Hypothesis",
         "rawType": "object",
         "type": "string"
        },
        {
         "name": "Reach",
         "rawType": "int64",
         "type": "integer"
        },
        {
         "name": "Impact",
         "rawType": "int64",
         "type": "integer"
        },
        {
         "name": "Confidence",
         "rawType": "int64",
         "type": "integer"
        },
        {
         "name": "Effort",
         "rawType": "int64",
         "type": "integer"
        }
       ],
       "ref": "85118e9b-786b-4a3a-a67b-b2484d7f67cd",
       "rows": [
        [
         "8",
         "Launch a promotion that gives users discounts on their birthdays",
         "1",
         "9",
         "9",
         "5"
        ],
        [
         "5",
         "Add a customer review page. This will increase the number of orders",
         "3",
         "2",
         "2",
         "3"
        ],
        [
         "3",
         "Change the category structure. This will increase conversion since users will find the products they want more quickly",
         "8",
         "3",
         "3",
         "8"
        ],
        [
         "6",
         "Show banners with current offers and sales on the main page. This will boost conversion",
         "5",
         "3",
         "8",
         "3"
        ],
        [
         "2",
         "Add product recommendation blocks to the store's site. This will increase conversion and average purchase size",
         "8",
         "3",
         "7",
         "3"
        ]
       ],
       "shape": {
        "columns": 5,
        "rows": 5
       }
      },
      "text/html": [
       "<div>\n",
       "<style scoped>\n",
       "    .dataframe tbody tr th:only-of-type {\n",
       "        vertical-align: middle;\n",
       "    }\n",
       "\n",
       "    .dataframe tbody tr th {\n",
       "        vertical-align: top;\n",
       "    }\n",
       "\n",
       "    .dataframe thead th {\n",
       "        text-align: right;\n",
       "    }\n",
       "</style>\n",
       "<table border=\"1\" class=\"dataframe\">\n",
       "  <thead>\n",
       "    <tr style=\"text-align: right;\">\n",
       "      <th></th>\n",
       "      <th>Hypothesis</th>\n",
       "      <th>Reach</th>\n",
       "      <th>Impact</th>\n",
       "      <th>Confidence</th>\n",
       "      <th>Effort</th>\n",
       "    </tr>\n",
       "  </thead>\n",
       "  <tbody>\n",
       "    <tr>\n",
       "      <th>8</th>\n",
       "      <td>Launch a promotion that gives users discounts ...</td>\n",
       "      <td>1</td>\n",
       "      <td>9</td>\n",
       "      <td>9</td>\n",
       "      <td>5</td>\n",
       "    </tr>\n",
       "    <tr>\n",
       "      <th>5</th>\n",
       "      <td>Add a customer review page. This will increase...</td>\n",
       "      <td>3</td>\n",
       "      <td>2</td>\n",
       "      <td>2</td>\n",
       "      <td>3</td>\n",
       "    </tr>\n",
       "    <tr>\n",
       "      <th>3</th>\n",
       "      <td>Change the category structure. This will incre...</td>\n",
       "      <td>8</td>\n",
       "      <td>3</td>\n",
       "      <td>3</td>\n",
       "      <td>8</td>\n",
       "    </tr>\n",
       "    <tr>\n",
       "      <th>6</th>\n",
       "      <td>Show banners with current offers and sales on ...</td>\n",
       "      <td>5</td>\n",
       "      <td>3</td>\n",
       "      <td>8</td>\n",
       "      <td>3</td>\n",
       "    </tr>\n",
       "    <tr>\n",
       "      <th>2</th>\n",
       "      <td>Add product recommendation blocks to the store...</td>\n",
       "      <td>8</td>\n",
       "      <td>3</td>\n",
       "      <td>7</td>\n",
       "      <td>3</td>\n",
       "    </tr>\n",
       "  </tbody>\n",
       "</table>\n",
       "</div>"
      ],
      "text/plain": [
       "                                          Hypothesis  Reach  Impact  \\\n",
       "8  Launch a promotion that gives users discounts ...      1       9   \n",
       "5  Add a customer review page. This will increase...      3       2   \n",
       "3  Change the category structure. This will incre...      8       3   \n",
       "6  Show banners with current offers and sales on ...      5       3   \n",
       "2  Add product recommendation blocks to the store...      8       3   \n",
       "\n",
       "   Confidence  Effort  \n",
       "8           9       5  \n",
       "5           2       3  \n",
       "3           3       8  \n",
       "6           8       3  \n",
       "2           7       3  "
      ]
     },
     "execution_count": 39,
     "metadata": {},
     "output_type": "execute_result"
    }
   ],
   "source": [
    "hypothesis.sample(5)"
   ]
  },
  {
   "cell_type": "code",
   "execution_count": 40,
   "metadata": {},
   "outputs": [
    {
     "data": {
      "application/vnd.microsoft.datawrangler.viewer.v0+json": {
       "columns": [
        {
         "name": "index",
         "rawType": "int64",
         "type": "integer"
        },
        {
         "name": "transactionId",
         "rawType": "int64",
         "type": "integer"
        },
        {
         "name": "visitorId",
         "rawType": "int64",
         "type": "integer"
        },
        {
         "name": "date",
         "rawType": "object",
         "type": "string"
        },
        {
         "name": "revenue",
         "rawType": "float64",
         "type": "float"
        },
        {
         "name": "group",
         "rawType": "object",
         "type": "string"
        }
       ],
       "ref": "e8102037-3d8f-4800-b40c-05473dbe2548",
       "rows": [
        [
         "839",
         "2368020497",
         "2870367609",
         "2019-08-21",
         "25.7",
         "B"
        ],
        [
         "966",
         "914877599",
         "1174537443",
         "2019-08-10",
         "10.0",
         "A"
        ],
        [
         "348",
         "2337370869",
         "2016864191",
         "2019-08-03",
         "10.5",
         "A"
        ],
        [
         "90",
         "2010908098",
         "1035424004",
         "2019-08-22",
         "25.9",
         "B"
        ],
        [
         "388",
         "1233825013",
         "3160828523",
         "2019-08-03",
         "90.2",
         "A"
        ]
       ],
       "shape": {
        "columns": 5,
        "rows": 5
       }
      },
      "text/html": [
       "<div>\n",
       "<style scoped>\n",
       "    .dataframe tbody tr th:only-of-type {\n",
       "        vertical-align: middle;\n",
       "    }\n",
       "\n",
       "    .dataframe tbody tr th {\n",
       "        vertical-align: top;\n",
       "    }\n",
       "\n",
       "    .dataframe thead th {\n",
       "        text-align: right;\n",
       "    }\n",
       "</style>\n",
       "<table border=\"1\" class=\"dataframe\">\n",
       "  <thead>\n",
       "    <tr style=\"text-align: right;\">\n",
       "      <th></th>\n",
       "      <th>transactionId</th>\n",
       "      <th>visitorId</th>\n",
       "      <th>date</th>\n",
       "      <th>revenue</th>\n",
       "      <th>group</th>\n",
       "    </tr>\n",
       "  </thead>\n",
       "  <tbody>\n",
       "    <tr>\n",
       "      <th>839</th>\n",
       "      <td>2368020497</td>\n",
       "      <td>2870367609</td>\n",
       "      <td>2019-08-21</td>\n",
       "      <td>25.7</td>\n",
       "      <td>B</td>\n",
       "    </tr>\n",
       "    <tr>\n",
       "      <th>966</th>\n",
       "      <td>914877599</td>\n",
       "      <td>1174537443</td>\n",
       "      <td>2019-08-10</td>\n",
       "      <td>10.0</td>\n",
       "      <td>A</td>\n",
       "    </tr>\n",
       "    <tr>\n",
       "      <th>348</th>\n",
       "      <td>2337370869</td>\n",
       "      <td>2016864191</td>\n",
       "      <td>2019-08-03</td>\n",
       "      <td>10.5</td>\n",
       "      <td>A</td>\n",
       "    </tr>\n",
       "    <tr>\n",
       "      <th>90</th>\n",
       "      <td>2010908098</td>\n",
       "      <td>1035424004</td>\n",
       "      <td>2019-08-22</td>\n",
       "      <td>25.9</td>\n",
       "      <td>B</td>\n",
       "    </tr>\n",
       "    <tr>\n",
       "      <th>388</th>\n",
       "      <td>1233825013</td>\n",
       "      <td>3160828523</td>\n",
       "      <td>2019-08-03</td>\n",
       "      <td>90.2</td>\n",
       "      <td>A</td>\n",
       "    </tr>\n",
       "  </tbody>\n",
       "</table>\n",
       "</div>"
      ],
      "text/plain": [
       "     transactionId   visitorId        date  revenue group\n",
       "839     2368020497  2870367609  2019-08-21     25.7     B\n",
       "966      914877599  1174537443  2019-08-10     10.0     A\n",
       "348     2337370869  2016864191  2019-08-03     10.5     A\n",
       "90      2010908098  1035424004  2019-08-22     25.9     B\n",
       "388     1233825013  3160828523  2019-08-03     90.2     A"
      ]
     },
     "execution_count": 40,
     "metadata": {},
     "output_type": "execute_result"
    }
   ],
   "source": [
    "orders.sample(5)"
   ]
  },
  {
   "cell_type": "code",
   "execution_count": 41,
   "metadata": {},
   "outputs": [
    {
     "data": {
      "application/vnd.microsoft.datawrangler.viewer.v0+json": {
       "columns": [
        {
         "name": "index",
         "rawType": "int64",
         "type": "integer"
        },
        {
         "name": "date",
         "rawType": "object",
         "type": "string"
        },
        {
         "name": "group",
         "rawType": "object",
         "type": "string"
        },
        {
         "name": "visits",
         "rawType": "int64",
         "type": "integer"
        }
       ],
       "ref": "1c6dabb6-9ed1-4b0a-af49-c1614a0ab3cd",
       "rows": [
        [
         "19",
         "2019-08-20",
         "A",
         "575"
        ],
        [
         "33",
         "2019-08-03",
         "B",
         "509"
        ],
        [
         "11",
         "2019-08-12",
         "A",
         "595"
        ],
        [
         "53",
         "2019-08-23",
         "B",
         "546"
        ],
        [
         "37",
         "2019-08-07",
         "B",
         "709"
        ]
       ],
       "shape": {
        "columns": 3,
        "rows": 5
       }
      },
      "text/html": [
       "<div>\n",
       "<style scoped>\n",
       "    .dataframe tbody tr th:only-of-type {\n",
       "        vertical-align: middle;\n",
       "    }\n",
       "\n",
       "    .dataframe tbody tr th {\n",
       "        vertical-align: top;\n",
       "    }\n",
       "\n",
       "    .dataframe thead th {\n",
       "        text-align: right;\n",
       "    }\n",
       "</style>\n",
       "<table border=\"1\" class=\"dataframe\">\n",
       "  <thead>\n",
       "    <tr style=\"text-align: right;\">\n",
       "      <th></th>\n",
       "      <th>date</th>\n",
       "      <th>group</th>\n",
       "      <th>visits</th>\n",
       "    </tr>\n",
       "  </thead>\n",
       "  <tbody>\n",
       "    <tr>\n",
       "      <th>19</th>\n",
       "      <td>2019-08-20</td>\n",
       "      <td>A</td>\n",
       "      <td>575</td>\n",
       "    </tr>\n",
       "    <tr>\n",
       "      <th>33</th>\n",
       "      <td>2019-08-03</td>\n",
       "      <td>B</td>\n",
       "      <td>509</td>\n",
       "    </tr>\n",
       "    <tr>\n",
       "      <th>11</th>\n",
       "      <td>2019-08-12</td>\n",
       "      <td>A</td>\n",
       "      <td>595</td>\n",
       "    </tr>\n",
       "    <tr>\n",
       "      <th>53</th>\n",
       "      <td>2019-08-23</td>\n",
       "      <td>B</td>\n",
       "      <td>546</td>\n",
       "    </tr>\n",
       "    <tr>\n",
       "      <th>37</th>\n",
       "      <td>2019-08-07</td>\n",
       "      <td>B</td>\n",
       "      <td>709</td>\n",
       "    </tr>\n",
       "  </tbody>\n",
       "</table>\n",
       "</div>"
      ],
      "text/plain": [
       "          date group  visits\n",
       "19  2019-08-20     A     575\n",
       "33  2019-08-03     B     509\n",
       "11  2019-08-12     A     595\n",
       "53  2019-08-23     B     546\n",
       "37  2019-08-07     B     709"
      ]
     },
     "execution_count": 41,
     "metadata": {},
     "output_type": "execute_result"
    }
   ],
   "source": [
    "visits.sample(5)"
   ]
  },
  {
   "cell_type": "markdown",
   "metadata": {},
   "source": [
    "### Preprocesamiento de los datos"
   ]
  },
  {
   "cell_type": "code",
   "execution_count": 42,
   "metadata": {},
   "outputs": [
    {
     "name": "stdout",
     "output_type": "stream",
     "text": [
      "Index(['hypothesis', 'reach', 'impact', 'confidence', 'effort'], dtype='object')\n",
      "Index(['transaction_id', 'visitor_id', 'date', 'revenue', 'group'], dtype='object')\n"
     ]
    }
   ],
   "source": [
    "#para las tablas orders e hypotesis renombrar las columnas en minusculas y snake case \n",
    "hypothesis.columns = hypothesis.columns.str.lower()\n",
    "print(hypothesis.columns)\n",
    "orders.rename(columns={'transactionId':'transaction_id','visitorId':'visitor_id'}, inplace=True)\n",
    "print(orders.columns)"
   ]
  },
  {
   "cell_type": "code",
   "execution_count": 43,
   "metadata": {},
   "outputs": [],
   "source": [
    "#cambiamos los tipos de datos a fecha\n",
    "orders['date']=pd.to_datetime(orders['date'])\n",
    "visits['date']=pd.to_datetime(visits['date'])"
   ]
  },
  {
   "cell_type": "code",
   "execution_count": 44,
   "metadata": {},
   "outputs": [
    {
     "name": "stdout",
     "output_type": "stream",
     "text": [
      " Hay 0 duplicados en la tabla hypothesis.\n",
      " Hay 0 duplicados en la tabla orders.\n",
      " Hay 0 duplicados en la tabla visits\n"
     ]
    }
   ],
   "source": [
    "#verificamos posibles duplicados\n",
    "print(f\" Hay {hypothesis.duplicated().sum()} duplicados en la tabla hypothesis.\")\n",
    "print(f\" Hay {orders.duplicated().sum()} duplicados en la tabla orders.\")\n",
    "print(f\" Hay {visits.duplicated().sum()} duplicados en la tabla visits\")"
   ]
  },
  {
   "cell_type": "code",
   "execution_count": 45,
   "metadata": {},
   "outputs": [
    {
     "name": "stdout",
     "output_type": "stream",
     "text": [
      "Valores ausentes por columna en hypotesis:\n",
      " hypothesis    0\n",
      "reach         0\n",
      "impact        0\n",
      "confidence    0\n",
      "effort        0\n",
      "dtype: int64\n",
      "\n",
      "Valores ausentes por columna en orders:\n",
      " transaction_id    0\n",
      "visitor_id        0\n",
      "date              0\n",
      "revenue           0\n",
      "group             0\n",
      "dtype: int64\n",
      "\n",
      "Valores ausentes por columna en visits:\n",
      "\n",
      " date      0\n",
      "group     0\n",
      "visits    0\n",
      "dtype: int64\n"
     ]
    }
   ],
   "source": [
    "#verificamos posibles valores ausentes\n",
    "print(\"Valores ausentes por columna en hypotesis:\\n\", hypothesis.isna().sum())\n",
    "print(\"\\nValores ausentes por columna en orders:\\n\", orders.isna().sum())\n",
    "print(\"\\nValores ausentes por columna en visits:\\n\\n\", visits.isna().sum())\n"
   ]
  },
  {
   "cell_type": "markdown",
   "metadata": {},
   "source": [
    "### Parte 1. Priorizar hipótesis\n",
    "Metodo ICE\n"
   ]
  },
  {
   "cell_type": "code",
   "execution_count": 46,
   "metadata": {},
   "outputs": [
    {
     "data": {
      "application/vnd.microsoft.datawrangler.viewer.v0+json": {
       "columns": [
        {
         "name": "index",
         "rawType": "int64",
         "type": "integer"
        },
        {
         "name": "hypothesis",
         "rawType": "object",
         "type": "string"
        },
        {
         "name": "ice",
         "rawType": "float64",
         "type": "float"
        }
       ],
       "ref": "c608e6dd-3224-4b4d-9856-c9aca494e0b1",
       "rows": [
        [
         "8",
         "Launch a promotion that gives users discounts on their birthdays",
         "16.2"
        ],
        [
         "0",
         "Add two new channels for attracting traffic. This will bring 30% more users",
         "13.333333333333334"
        ],
        [
         "7",
         "Add a subscription form to all the main pages. This will help you compile a mailing list",
         "11.2"
        ],
        [
         "6",
         "Show banners with current offers and sales on the main page. This will boost conversion",
         "8.0"
        ],
        [
         "2",
         "Add product recommendation blocks to the store's site. This will increase conversion and average purchase size",
         "7.0"
        ],
        [
         "1",
         "Launch your own delivery service. This will shorten delivery time",
         "2.0"
        ],
        [
         "5",
         "Add a customer review page. This will increase the number of orders",
         "1.3333333333333333"
        ],
        [
         "3",
         "Change the category structure. This will increase conversion since users will find the products they want more quickly",
         "1.125"
        ],
        [
         "4",
         "Change the background color on the main page. This will increase user engagement",
         "1.0"
        ]
       ],
       "shape": {
        "columns": 2,
        "rows": 9
       }
      },
      "text/html": [
       "<div>\n",
       "<style scoped>\n",
       "    .dataframe tbody tr th:only-of-type {\n",
       "        vertical-align: middle;\n",
       "    }\n",
       "\n",
       "    .dataframe tbody tr th {\n",
       "        vertical-align: top;\n",
       "    }\n",
       "\n",
       "    .dataframe thead th {\n",
       "        text-align: right;\n",
       "    }\n",
       "</style>\n",
       "<table border=\"1\" class=\"dataframe\">\n",
       "  <thead>\n",
       "    <tr style=\"text-align: right;\">\n",
       "      <th></th>\n",
       "      <th>hypothesis</th>\n",
       "      <th>ice</th>\n",
       "    </tr>\n",
       "  </thead>\n",
       "  <tbody>\n",
       "    <tr>\n",
       "      <th>8</th>\n",
       "      <td>Launch a promotion that gives users discounts ...</td>\n",
       "      <td>16.200000</td>\n",
       "    </tr>\n",
       "    <tr>\n",
       "      <th>0</th>\n",
       "      <td>Add two new channels for attracting traffic. T...</td>\n",
       "      <td>13.333333</td>\n",
       "    </tr>\n",
       "    <tr>\n",
       "      <th>7</th>\n",
       "      <td>Add a subscription form to all the main pages....</td>\n",
       "      <td>11.200000</td>\n",
       "    </tr>\n",
       "    <tr>\n",
       "      <th>6</th>\n",
       "      <td>Show banners with current offers and sales on ...</td>\n",
       "      <td>8.000000</td>\n",
       "    </tr>\n",
       "    <tr>\n",
       "      <th>2</th>\n",
       "      <td>Add product recommendation blocks to the store...</td>\n",
       "      <td>7.000000</td>\n",
       "    </tr>\n",
       "    <tr>\n",
       "      <th>1</th>\n",
       "      <td>Launch your own delivery service. This will sh...</td>\n",
       "      <td>2.000000</td>\n",
       "    </tr>\n",
       "    <tr>\n",
       "      <th>5</th>\n",
       "      <td>Add a customer review page. This will increase...</td>\n",
       "      <td>1.333333</td>\n",
       "    </tr>\n",
       "    <tr>\n",
       "      <th>3</th>\n",
       "      <td>Change the category structure. This will incre...</td>\n",
       "      <td>1.125000</td>\n",
       "    </tr>\n",
       "    <tr>\n",
       "      <th>4</th>\n",
       "      <td>Change the background color on the main page. ...</td>\n",
       "      <td>1.000000</td>\n",
       "    </tr>\n",
       "  </tbody>\n",
       "</table>\n",
       "</div>"
      ],
      "text/plain": [
       "                                          hypothesis        ice\n",
       "8  Launch a promotion that gives users discounts ...  16.200000\n",
       "0  Add two new channels for attracting traffic. T...  13.333333\n",
       "7  Add a subscription form to all the main pages....  11.200000\n",
       "6  Show banners with current offers and sales on ...   8.000000\n",
       "2  Add product recommendation blocks to the store...   7.000000\n",
       "1  Launch your own delivery service. This will sh...   2.000000\n",
       "5  Add a customer review page. This will increase...   1.333333\n",
       "3  Change the category structure. This will incre...   1.125000\n",
       "4  Change the background color on the main page. ...   1.000000"
      ]
     },
     "execution_count": 46,
     "metadata": {},
     "output_type": "execute_result"
    }
   ],
   "source": [
    "hypothesis['ice']=hypothesis['impact']*hypothesis['confidence']/hypothesis['effort']\n",
    "hypothesis[['hypothesis','ice']].sort_values(by='ice',ascending=False)"
   ]
  },
  {
   "cell_type": "markdown",
   "metadata": {},
   "source": [
    "Método RICE"
   ]
  },
  {
   "cell_type": "code",
   "execution_count": 47,
   "metadata": {},
   "outputs": [
    {
     "data": {
      "application/vnd.microsoft.datawrangler.viewer.v0+json": {
       "columns": [
        {
         "name": "index",
         "rawType": "int64",
         "type": "integer"
        },
        {
         "name": "hypothesis",
         "rawType": "object",
         "type": "string"
        },
        {
         "name": "rice",
         "rawType": "float64",
         "type": "float"
        }
       ],
       "ref": "d5dd71c5-a713-4aa6-a9c1-37fb7e043108",
       "rows": [
        [
         "7",
         "Add a subscription form to all the main pages. This will help you compile a mailing list",
         "112.0"
        ],
        [
         "2",
         "Add product recommendation blocks to the store's site. This will increase conversion and average purchase size",
         "56.0"
        ],
        [
         "0",
         "Add two new channels for attracting traffic. This will bring 30% more users",
         "40.0"
        ],
        [
         "6",
         "Show banners with current offers and sales on the main page. This will boost conversion",
         "40.0"
        ],
        [
         "8",
         "Launch a promotion that gives users discounts on their birthdays",
         "16.2"
        ],
        [
         "3",
         "Change the category structure. This will increase conversion since users will find the products they want more quickly",
         "9.0"
        ],
        [
         "1",
         "Launch your own delivery service. This will shorten delivery time",
         "4.0"
        ],
        [
         "5",
         "Add a customer review page. This will increase the number of orders",
         "4.0"
        ],
        [
         "4",
         "Change the background color on the main page. This will increase user engagement",
         "3.0"
        ]
       ],
       "shape": {
        "columns": 2,
        "rows": 9
       }
      },
      "text/html": [
       "<div>\n",
       "<style scoped>\n",
       "    .dataframe tbody tr th:only-of-type {\n",
       "        vertical-align: middle;\n",
       "    }\n",
       "\n",
       "    .dataframe tbody tr th {\n",
       "        vertical-align: top;\n",
       "    }\n",
       "\n",
       "    .dataframe thead th {\n",
       "        text-align: right;\n",
       "    }\n",
       "</style>\n",
       "<table border=\"1\" class=\"dataframe\">\n",
       "  <thead>\n",
       "    <tr style=\"text-align: right;\">\n",
       "      <th></th>\n",
       "      <th>hypothesis</th>\n",
       "      <th>rice</th>\n",
       "    </tr>\n",
       "  </thead>\n",
       "  <tbody>\n",
       "    <tr>\n",
       "      <th>7</th>\n",
       "      <td>Add a subscription form to all the main pages....</td>\n",
       "      <td>112.0</td>\n",
       "    </tr>\n",
       "    <tr>\n",
       "      <th>2</th>\n",
       "      <td>Add product recommendation blocks to the store...</td>\n",
       "      <td>56.0</td>\n",
       "    </tr>\n",
       "    <tr>\n",
       "      <th>0</th>\n",
       "      <td>Add two new channels for attracting traffic. T...</td>\n",
       "      <td>40.0</td>\n",
       "    </tr>\n",
       "    <tr>\n",
       "      <th>6</th>\n",
       "      <td>Show banners with current offers and sales on ...</td>\n",
       "      <td>40.0</td>\n",
       "    </tr>\n",
       "    <tr>\n",
       "      <th>8</th>\n",
       "      <td>Launch a promotion that gives users discounts ...</td>\n",
       "      <td>16.2</td>\n",
       "    </tr>\n",
       "    <tr>\n",
       "      <th>3</th>\n",
       "      <td>Change the category structure. This will incre...</td>\n",
       "      <td>9.0</td>\n",
       "    </tr>\n",
       "    <tr>\n",
       "      <th>1</th>\n",
       "      <td>Launch your own delivery service. This will sh...</td>\n",
       "      <td>4.0</td>\n",
       "    </tr>\n",
       "    <tr>\n",
       "      <th>5</th>\n",
       "      <td>Add a customer review page. This will increase...</td>\n",
       "      <td>4.0</td>\n",
       "    </tr>\n",
       "    <tr>\n",
       "      <th>4</th>\n",
       "      <td>Change the background color on the main page. ...</td>\n",
       "      <td>3.0</td>\n",
       "    </tr>\n",
       "  </tbody>\n",
       "</table>\n",
       "</div>"
      ],
      "text/plain": [
       "                                          hypothesis   rice\n",
       "7  Add a subscription form to all the main pages....  112.0\n",
       "2  Add product recommendation blocks to the store...   56.0\n",
       "0  Add two new channels for attracting traffic. T...   40.0\n",
       "6  Show banners with current offers and sales on ...   40.0\n",
       "8  Launch a promotion that gives users discounts ...   16.2\n",
       "3  Change the category structure. This will incre...    9.0\n",
       "1  Launch your own delivery service. This will sh...    4.0\n",
       "5  Add a customer review page. This will increase...    4.0\n",
       "4  Change the background color on the main page. ...    3.0"
      ]
     },
     "execution_count": 47,
     "metadata": {},
     "output_type": "execute_result"
    }
   ],
   "source": [
    "hypothesis['rice']=hypothesis['reach']*hypothesis['impact']*hypothesis['confidence']/hypothesis['effort']\n",
    "hypothesis[['hypothesis','rice']].sort_values(by='rice',ascending=False)"
   ]
  },
  {
   "cell_type": "markdown",
   "metadata": {},
   "source": [
    "Observaciones:La hipótesis \"Add a subscription form to all the main pages\" estaba en el puesto 3 en ICE y pasó a ser la número 1 en RICE.\n",
    "Esto sugiere que tiene un alto alcance (impacta a muchos usuarios), lo que hace que su prioridad aumente en RICE.\n",
    "Las hipótesis con menor alcance bajan en RICE\n",
    "\n",
    "La hipótesis \"Launch a promotion that gives users discounts\" estaba en el puesto 1 en ICE, pero bajó al puesto 5 en RICE.\n",
    "Esto indica que su alcance es más bajo en comparación con otras hipótesis.\n",
    "Las hipótesis con bajo impacto o esfuerzo alto siguen con baja prioridad\n",
    "\n",
    "\"Change the background color on the main page\" sigue en el último lugar en ambos rankings, lo que indica que tiene poco impacto y/o no es una optimización relevante."
   ]
  },
  {
   "cell_type": "markdown",
   "metadata": {},
   "source": [
    "### Parte 2. Análisis del test A/B"
   ]
  },
  {
   "cell_type": "markdown",
   "metadata": {},
   "source": [
    "#### 1.Representación gráfica del ingreso acumulado por grupo.\n",
    "\n"
   ]
  },
  {
   "cell_type": "code",
   "execution_count": 48,
   "metadata": {},
   "outputs": [],
   "source": [
    "#Crear un DataFrame con parejas de valores únicos de 'date' y 'group' de la tabla orders\n",
    "datesGroups = orders[['date', 'group']].drop_duplicates()\n",
    "# calculando los resultados de nuestra prueba todos los días hasta la fecha actual para las tablas orders y visits\n",
    "ordersAggregated = datesGroups.apply(\n",
    "    lambda x: orders[\n",
    "        np.logical_and(\n",
    "            orders['date'] <= x['date'], orders['group'] == x['group']\n",
    "        )\n",
    "    ].agg(\n",
    "        {\n",
    "            'date': 'max',\n",
    "            'group': 'max',\n",
    "            'transaction_id': pd.Series.nunique,\n",
    "            'visitor_id': pd.Series.nunique,\n",
    "            'revenue': 'sum',\n",
    "        }\n",
    "    ),\n",
    "    axis=1,\n",
    ").sort_values(by=['date', 'group'])\n",
    "\n",
    "visitorsAggregated = datesGroups.apply(\n",
    "    lambda x: visits[\n",
    "        np.logical_and(\n",
    "            visits['date'] <= x['date'], visits['group'] == x['group']\n",
    "        )\n",
    "    ].agg({'date': 'max', 'group': 'max', 'visits': 'sum'}),\n",
    "    axis=1,\n",
    ").sort_values(by=['date', 'group'])"
   ]
  },
  {
   "cell_type": "code",
   "execution_count": 49,
   "metadata": {},
   "outputs": [],
   "source": [
    "#  fusionar las dos tablas en una\n",
    "cumulativeData = ordersAggregated.merge(visitorsAggregated, left_on=['date', 'group'], right_on=['date', 'group'])\n",
    "cumulativeData.columns = ['date', 'group', 'orders', 'buyers', 'revenue', 'visitors']\n",
    "\n",
    "# DataFrame con pedidos acumulados e ingresos acumulados por día, grupo A\n",
    "cumulativeRevenueA = cumulativeData[cumulativeData['group']=='A'][['date','revenue', 'orders']]\n",
    "\n",
    "# DataFrame con pedidos acumulados e ingresos acumulados por día, grupo B\n",
    "cumulativeRevenueB = cumulativeData[cumulativeData['group']=='B'][['date','revenue', 'orders']]\n"
   ]
  },
  {
   "cell_type": "code",
   "execution_count": 50,
   "metadata": {},
   "outputs": [
    {
     "data": {
      "image/png": "[encoded data removed]",
      "text/plain": [
       "<Figure size 800x400 with 1 Axes>"
      ]
     },
     "metadata": {},
     "output_type": "display_data"
    }
   ],
   "source": [
    "plt.figure(figsize=(8,4))\n",
    "# Gráfico de ingresos del grupo A y B\n",
    "plt.plot(cumulativeRevenueA['date'], cumulativeRevenueA['revenue'], label='Grupo A', color='hotpink')\n",
    "plt.plot(cumulativeRevenueB['date'], cumulativeRevenueB['revenue'], label='Grupo B', color='blue')\n",
    "plt.xticks( rotation=45 ) \n",
    "plt.title(' Ingresos acumulados por grupo')\n",
    "plt.xlabel('Fecha')\n",
    "plt.ylabel('Ingresos')\n",
    "plt.legend()\n",
    "plt.show()\n"
   ]
  },
  {
   "cell_type": "markdown",
   "metadata": {},
   "source": [
    "Observaciones: Ambos grupos comienzan con ingresos bajos y aumentan progresivamente.\n",
    "El Grupo B tiene un crecimiento más rápido que el Grupo A, especialmente alrededor del 17 de agosto, donde se observa un salto significativo en los ingresos.\n",
    "A finales del período, el Grupo B tiene ingresos acumulados más altos que el Grupo A"
   ]
  },
  {
   "cell_type": "markdown",
   "metadata": {},
   "source": [
    "#### 2. Representación gráfica del tamaño de pedido promedio acumulado por grupo."
   ]
  },
  {
   "cell_type": "code",
   "execution_count": 51,
   "metadata": {},
   "outputs": [
    {
     "data": {
      "image/png": "[encoded data removed]",
      "text/plain": [
       "<Figure size 800x400 with 1 Axes>"
      ]
     },
     "metadata": {},
     "output_type": "display_data"
    }
   ],
   "source": [
    "plt.figure(figsize=(8,4))\n",
    "# Gráfico de pedidos del grupo A y B\n",
    "plt.plot(cumulativeRevenueA['date'], cumulativeRevenueA['revenue']/cumulativeRevenueA['orders'], label='Grupo A',color='hotpink')\n",
    "plt.plot(cumulativeRevenueB['date'], cumulativeRevenueB['revenue']/cumulativeRevenueB['orders'], label='Grupo B', color='blue')\n",
    "plt.xticks( rotation=45 ) \n",
    "plt.title('Tamaño de pedido promedio acumulado por grupo')\n",
    "plt.xlabel('Fecha')\n",
    "plt.ylabel('Promedio de ventas por pedido')\n",
    "plt.legend()\n",
    "plt.show()"
   ]
  },
  {
   "cell_type": "markdown",
   "metadata": {},
   "source": [
    "Observaciones: El Grupo A Comienza con fluctuaciones en los primeros días, pero luego muestra un crecimiento estable a partir del 10 de agosto.\n",
    "\n",
    "El Grupo B al inicio sigue una tendencia similar al Grupo A, pero después del 17 de agosto muestra un salto abrupto en el tamaño de pedido promedio y luego se estabiliza en un nivel superior al del Grupo A.\n"
   ]
  },
  {
   "cell_type": "markdown",
   "metadata": {},
   "source": [
    "#### 3. Representación gráfica de  la diferencia relativa en el tamaño de pedido promedio acumulado para el grupo B en comparación con el grupo A"
   ]
  },
  {
   "cell_type": "code",
   "execution_count": 52,
   "metadata": {},
   "outputs": [
    {
     "data": {
      "text/plain": [
       "<matplotlib.lines.Line2D at 0x1e51b2e14d0>"
      ]
     },
     "execution_count": 52,
     "metadata": {},
     "output_type": "execute_result"
    },
    {
     "data": {
      "image/png": "[encoded data removed]",
      "text/plain": [
       "<Figure size 800x400 with 1 Axes>"
      ]
     },
     "metadata": {},
     "output_type": "display_data"
    }
   ],
   "source": [
    "mergedCumulativeRevenue = cumulativeRevenueA.merge(cumulativeRevenueB, left_on='date', right_on='date', how='left', suffixes=['A', 'B'])\n",
    "plt.figure(figsize=(8,4))\n",
    "# gráfico de diferencia relativa para los tamaños de compra promedio\n",
    "plt.plot(mergedCumulativeRevenue['date'], (mergedCumulativeRevenue['revenueB']/mergedCumulativeRevenue['ordersB'])/(mergedCumulativeRevenue['revenueA']/mergedCumulativeRevenue['ordersA'])-1)\n",
    "plt.xticks( rotation=45 ) \n",
    "plt.title('Diferencia relativa en el tamaño de compra promedio')\n",
    "plt.xlabel('Fecha')\n",
    "plt.ylabel('Diferencia relativa')\n",
    "plt.axhline(y=0, color='black', linestyle='--')\n"
   ]
  },
  {
   "cell_type": "markdown",
   "metadata": {},
   "source": [
    "Observaciones: La diferencia relativa comienza en territorio negativo, lo que sugiere que, al inicio del periodo, el grupo A tenía un tamaño de compra promedio mayor que el grupo B. \n",
    "Durante el periodo del 5 al 17 de agosto, la diferencia relativa muestra una alta volatilidad. Esto indica que la dinámica entre los grupos A y B es inestable. El que la linea baje a valores negativos de nuevo, implica que el grupo A recupera parte del terreno perdido. \n",
    "El marcado pico positivo indica un cambio significativo. El grupo B experimenta un aumento sustancial en el tamaño de compra promedio, superando considerablemente al grupo A. "
   ]
  },
  {
   "cell_type": "markdown",
   "metadata": {},
   "source": [
    "\n",
    "#### 4. Cálculo de la tasa de conversión de cada grupo.\n"
   ]
  },
  {
   "cell_type": "code",
   "execution_count": 53,
   "metadata": {},
   "outputs": [
    {
     "data": {
      "text/plain": [
       "(np.float64(18109.0), np.float64(18140.0), np.float64(0.0), np.float64(0.05))"
      ]
     },
     "execution_count": 53,
     "metadata": {},
     "output_type": "execute_result"
    },
    {
     "data": {
      "image/png": "[encoded data removed]",
      "text/plain": [
       "<Figure size 800x400 with 1 Axes>"
      ]
     },
     "metadata": {},
     "output_type": "display_data"
    }
   ],
   "source": [
    "# calcular la conversión acumulada\n",
    "cumulativeData['conversion'] = cumulativeData['orders']/cumulativeData['visitors']\n",
    "\n",
    "# seleccionar datos en el grupo A\n",
    "cumulativeDataA = cumulativeData[cumulativeData['group']=='A']\n",
    "\n",
    "# seleccionar datos en el grupo B\n",
    "cumulativeDataB = cumulativeData[cumulativeData['group']=='B']\n",
    "\n",
    "plt.figure(figsize=(8,4))\n",
    "plt.plot(cumulativeDataA['date'], cumulativeDataA['conversion'], label='Grupo A', color='hotpink')\n",
    "plt.plot(cumulativeDataB['date'], cumulativeDataB['conversion'], label='Grupo B',color='blue')\n",
    "plt.xticks(rotation=45)\n",
    "plt.title('Tasa de conversion acumulada por grupo')\n",
    "plt.xlabel('Fecha')\n",
    "plt.ylabel('Conversión acumulada')\n",
    "plt.legend()\n",
    "plt.axis([pd.to_datetime(\"2019-08-01\"), pd.to_datetime('2019-09-01'), 0, 0.05])"
   ]
  },
  {
   "cell_type": "markdown",
   "metadata": {},
   "source": [
    "Observaciones: \n",
    "\n",
    "El Grupo B muestra una tasa de conversión inicial ligeramente más alta que el Grupo A.\n",
    "Ambos grupos experimentan fluctuaciones, pero el Grupo B muestra una tendencia ascendente más marcada en los primeros días.\n",
    "Del 5 al 17 de Agosto Ambos grupos se estabilizan en sus tasas de conversión.\n",
    "El Grupo B se mantiene consistentemente por encima del Grupo A, aunque la diferencia es relativamente pequeña.\n",
    "Del 17 de Agosto en adelante  las tasas de conversión de ambos grupos se acercan aún más.\n",
    "Ambos grupos muestran una ligera tendencia a la baja hacia el final del periodo.\n",
    "El grupo B se mantiene ligeramente superior al grupo A, pero la diferencia es muy pequeña."
   ]
  },
  {
   "cell_type": "markdown",
   "metadata": {},
   "source": [
    "#### 5. Dispersión del número de pedidos por usuario."
   ]
  },
  {
   "cell_type": "code",
   "execution_count": 54,
   "metadata": {},
   "outputs": [
    {
     "data": {
      "text/plain": [
       "(np.float64(18109.0), np.float64(18140.0), np.float64(-0.5), np.float64(0.5))"
      ]
     },
     "execution_count": 54,
     "metadata": {},
     "output_type": "execute_result"
    },
    {
     "data": {
      "image/png": "[encoded data removed]",
      "text/plain": [
       "<Figure size 640x480 with 1 Axes>"
      ]
     },
     "metadata": {},
     "output_type": "display_data"
    }
   ],
   "source": [
    "#unimos los datos de conversion\n",
    "mergedCumulativeConversions = cumulativeDataA[['date','conversion']].merge(cumulativeDataB[['date','conversion']], left_on='date', right_on='date', how='left', suffixes=['A', 'B'])\n",
    "\n",
    "plt.plot(mergedCumulativeConversions['date'], mergedCumulativeConversions['conversionB']/mergedCumulativeConversions['conversionA']-1)\n",
    "plt.xticks(rotation=45)\n",
    "plt.title('Diferencia relativa entre la tasa de conversión acumulada')\n",
    "plt.xlabel( 'Fecha')\n",
    "plt.ylabel('Variación en el número de conversiones')\n",
    "plt.axhline(y=0, color='black', linestyle='--')\n",
    "plt.axis([pd.to_datetime(\"2019-08-01\"), pd.to_datetime('2019-09-01'), -0.5, 0.5])"
   ]
  },
  {
   "cell_type": "markdown",
   "metadata": {},
   "source": [
    "Observaciones: La diferencia relativa comienza en territorio negativo, lo que indica que el Grupo A tenía una tasa de conversión acumulada mayor que el Grupo B en los primeros días.\n",
    "Se observa una rápida transición hacia valores positivos, lo que sugiere que el Grupo B experimentó un aumento significativo en su tasa de conversión acumulada.\n",
    "Se observa cierta fluctuación, pero la diferencia se mantiene relativamente constante.\n",
    "Al final la diferencia relativa muestra una ligera tendencia a la baja, lo que sugiere que las tasas de conversión acumuladas de ambos grupos se están acercando. Sin embargo, la diferencia se mantiene en valores positivos, lo que indica que el Grupo B sigue teniendo una tasa de conversión acumulada ligeramente mayor que el Grupo A al final del periodo."
   ]
  },
  {
   "cell_type": "markdown",
   "metadata": {},
   "source": [
    "### Detección de anomalías\n"
   ]
  },
  {
   "cell_type": "markdown",
   "metadata": {},
   "source": [
    "#### 5. Dispersión del número de pedidos por usuario"
   ]
  },
  {
   "cell_type": "code",
   "execution_count": 55,
   "metadata": {},
   "outputs": [
    {
     "data": {
      "text/plain": [
       "Text(0, 0.5, 'Ordenes')"
      ]
     },
     "execution_count": 55,
     "metadata": {},
     "output_type": "execute_result"
    },
    {
     "data": {
      "image/png": "[encoded data removed]",
      "text/plain": [
       "<Figure size 600x400 with 1 Axes>"
      ]
     },
     "metadata": {},
     "output_type": "display_data"
    }
   ],
   "source": [
    "#Gráfico de dispersión del número de pedidos por usuario\n",
    "orders_by_users = (orders.groupby('visitor_id', as_index=False).agg({'transaction_id': pd.Series.nunique})\n",
    ")\n",
    "orders_by_users.columns=['visitor_id', 'orders']\n",
    "x_values_o = pd.Series(range(0,len(orders_by_users)))\n",
    "plt.figure(figsize=(6,4))\n",
    "plt.scatter(x_values_o, orders_by_users['orders'],alpha=0.4)\n",
    "plt.title('Dispersión del número de pedidos por usuario')\n",
    "plt.xlabel('Usuarios')\n",
    "plt.ylabel('Ordenes')"
   ]
  },
  {
   "cell_type": "markdown",
   "metadata": {},
   "source": [
    "Observaciones: La mayoría de los puntos se encuentran en la parte inferior del gráfico, cerca de 1 orden. Esto indica que la gran mayoría de los usuarios ha realizado solo un pedido.\n",
    "Hay algunos puntos dispersos a lo largo del gráfico, lo que indica que algunos usuarios han realizado más de un pedido.\n",
    "Se observan algunos valores atípicos (outliers) con un número significativamente mayor de pedidos."
   ]
  },
  {
   "cell_type": "markdown",
   "metadata": {},
   "source": [
    "#### 6. Percentiles 90, 95 y 99 del número de pedidos por usuario"
   ]
  },
  {
   "cell_type": "code",
   "execution_count": 56,
   "metadata": {},
   "outputs": [
    {
     "name": "stdout",
     "output_type": "stream",
     "text": [
      "Percentiles 90/95/99 para el número de ordenes: [1. 2. 4.]\n"
     ]
    }
   ],
   "source": [
    "print(\"Percentiles 90/95/99 para el número de ordenes:\",np.percentile(orders_by_users['orders'], [90, 95, 99]))"
   ]
  },
  {
   "cell_type": "markdown",
   "metadata": {},
   "source": [
    "Observaciones: No más del 5% de los usuarios realizaron más de 2 pedidos y no mas del 1% de los usuarios realizaron más de 4. "
   ]
  },
  {
   "cell_type": "markdown",
   "metadata": {},
   "source": [
    "#### 7. Dispersión de los precios de los pedidos"
   ]
  },
  {
   "cell_type": "code",
   "execution_count": 57,
   "metadata": {},
   "outputs": [
    {
     "data": {
      "text/plain": [
       "Text(0, 0.5, 'Ingresos')"
      ]
     },
     "execution_count": 57,
     "metadata": {},
     "output_type": "execute_result"
    },
    {
     "data": {
      "image/png": "[encoded data removed]",
      "text/plain": [
       "<Figure size 600x400 with 1 Axes>"
      ]
     },
     "metadata": {},
     "output_type": "display_data"
    }
   ],
   "source": [
    "#Gráfico de dispersión de los precios de los pedidos*\n",
    "x_values_r = pd.Series(range(0,len(orders['revenue'])))\n",
    "plt.figure(figsize=(6,4))\n",
    "plt.scatter(x_values_r,orders['revenue'], alpha=0.4, color='green')\n",
    "plt.title('Dispersión de ingresos por usuario')\n",
    "plt.xlabel('Usuarios')\n",
    "plt.ylabel('Ingresos')"
   ]
  },
  {
   "cell_type": "markdown",
   "metadata": {},
   "source": [
    "Observaciones: La gran mayoría de los puntos se agrupan en la parte inferior del gráfico. Esto indica que la mayoría de los usuarios generan ingresos bajos.\n",
    "Hay algunos puntos dispersos a lo largo del gráfico, lo que indica que algunos usuarios generan ingresos más altos.\n",
    "Se observan dos valores atípicos notables, un usuario con ingresos cercanos a 20000 y otro con ingresos cercanos a 3000."
   ]
  },
  {
   "cell_type": "markdown",
   "metadata": {},
   "source": [
    "#### 8. Percentiles 90, 95 y 99 de los precios de los pedidos"
   ]
  },
  {
   "cell_type": "code",
   "execution_count": 58,
   "metadata": {},
   "outputs": [
    {
     "name": "stdout",
     "output_type": "stream",
     "text": [
      "Percentiles 90/95/99 para los ingresos: [282.48  435.54  900.904]\n"
     ]
    }
   ],
   "source": [
    "print(\"Percentiles 90/95/99 para los ingresos:\",np.percentile(orders['revenue'], [90, 95,99]))"
   ]
  },
  {
   "cell_type": "markdown",
   "metadata": {},
   "source": [
    "Observaciones: No más del 5% de los pedidos cuestan más de $435.54 y no más del 1% cuestan más de $900.904."
   ]
  },
  {
   "cell_type": "markdown",
   "metadata": {},
   "source": [
    "#### 9. Significancia estadística de la diferencia en la conversión entre los grupos utilizando los datos en bruto.  "
   ]
  },
  {
   "cell_type": "code",
   "execution_count": 59,
   "metadata": {},
   "outputs": [],
   "source": [
    "#Crer las variables para almacenar los usuarios con al menos un pedido,\n",
    "#  indicaremos el número de pedidos realizados\n",
    "orders_by_usersA = orders[orders['group']=='A'].groupby(\n",
    "    'visitor_id', as_index=False).agg(\n",
    "        {'transaction_id' : pd.Series.nunique})\n",
    "orders_by_usersA.columns = ['visitor_id', 'orders']\n",
    "\n",
    "orders_by_usersB = orders[orders['group']=='B'].groupby(\n",
    "    'visitor_id', as_index=False).agg(\n",
    "        {'transaction_id' : pd.Series.nunique})\n",
    "orders_by_usersB.columns = ['visitor_id', 'orders']\n",
    "\n",
    "#Declar las variables sampleA y sampleB con usuarios de diferentes grupos y \n",
    "# números de pedidos correspondientes. Los que no pidieron nada tendrán un 0. \n",
    "sampleA = pd.concat([orders_by_usersA['orders'],pd.Series(0, index=np.arange(\n",
    "    visits[visits['group']=='A']['visits'].sum() - len(orders_by_usersA['orders'])), name='orders')],axis=0)\n",
    "\n",
    "sampleB = pd.concat([orders_by_usersB['orders'],pd.Series(0, index=np.arange(\n",
    "    visits[visits['group']=='B']['visits'].sum() - len(orders_by_usersB['orders'])), name='orders')],axis=0)"
   ]
  },
  {
   "cell_type": "code",
   "execution_count": 60,
   "metadata": {},
   "outputs": [
    {
     "name": "stdout",
     "output_type": "stream",
     "text": [
      "0.017\n",
      "0.138\n"
     ]
    }
   ],
   "source": [
    "#calcular la importancia estadística de la diferencia en la conversion de los segmentos\n",
    "print(\"{0:.3f}\".format(stats.mannwhitneyu(sampleA, sampleB)[1]))\n",
    "print(\"{0:.3f}\".format(sampleB.mean()/sampleA.mean()-1))"
   ]
  },
  {
   "cell_type": "markdown",
   "metadata": {},
   "source": [
    "Observaciones: Como el valor p es menor a 0.05, se puede rechazar la hipótesis nula con un nivel de confianza del 95%.\n",
    "Esto sugiere que hay una diferencia estadísticamente significativa entre las distribuciones de sampleA y sampleB.\n",
    "sampleB tiene una media 13.8% mayor que sampleA, como este valor es positivo significa que sampleB es mayor en promedio"
   ]
  },
  {
   "cell_type": "markdown",
   "metadata": {},
   "source": [
    "#### 10. Significancia estadística de la diferencia en el tamaño promedio de pedido entre los grupos utilizando los datos en bruto."
   ]
  },
  {
   "cell_type": "code",
   "execution_count": 61,
   "metadata": {},
   "outputs": [
    {
     "name": "stdout",
     "output_type": "stream",
     "text": [
      "0.692\n",
      "0.252\n"
     ]
    }
   ],
   "source": [
    "#Diferencia relativa en el tamaño promedio de pedido entre los grupos:\n",
    "print('{0:.3f}'.format(stats.mannwhitneyu(orders[orders['group']=='A']['revenue'], orders[orders['group']=='B']['revenue'])[1]))\n",
    "print('{0:.3f}'.format(orders[orders['group']=='B']['revenue'].mean()/orders[orders['group']=='A']['revenue'].mean()-1))"
   ]
  },
  {
   "cell_type": "markdown",
   "metadata": {},
   "source": [
    "Observaciones: Como el valor p es mucho mayor que 0.05, no hay suficiente evidencia estadística para afirmar que los grupos A y B tienen distribuciones de ingresos significativamente diferentes.\n",
    "\n",
    "El revenue promedio del grupo B es 25.2% mayor que el del grupo A.\n",
    "Sin embargo, como el valor p es alto, este incremento no es estadísticamente significativo."
   ]
  },
  {
   "cell_type": "markdown",
   "metadata": {},
   "source": [
    "#### 11. Significancia estadística de la diferencia en la conversión entre los grupos utilizando los datos filtrados"
   ]
  },
  {
   "cell_type": "code",
   "execution_count": 62,
   "metadata": {},
   "outputs": [
    {
     "name": "stdout",
     "output_type": "stream",
     "text": [
      "1099     148427295\n",
      "949      887908475\n",
      "744      888512513\n",
      "1103    1164614297\n",
      "1136    1307669133\n",
      "Name: visitor_id, dtype: int64\n",
      "Datós anómalos: (15,)\n"
     ]
    }
   ],
   "source": [
    "#Número total de usuarios anómalos\n",
    "threshold_orders = np.percentile(orders_by_users['orders'], 99)\n",
    "threshold_revenue = np.percentile(orders['revenue'], 99)\n",
    "usersWithManyOrders = pd.concat([orders_by_usersA[orders_by_usersA['orders'] > threshold_orders]['visitor_id'], orders_by_usersB[orders_by_usersB['orders'] > threshold_orders]['visitor_id']], axis = 0)\n",
    "usersWithExpensiveOrders = orders[orders['revenue'] > threshold_revenue]['visitor_id']\n",
    "abnormalUsers = pd.concat([usersWithManyOrders, usersWithExpensiveOrders], axis = 0).drop_duplicates().sort_values()\n",
    "print(abnormalUsers.head(5))\n",
    "print(f\"Datós anómalos: {abnormalUsers.shape}\")"
   ]
  },
  {
   "cell_type": "code",
   "execution_count": 63,
   "metadata": {},
   "outputs": [
    {
     "name": "stdout",
     "output_type": "stream",
     "text": [
      "0.014\n",
      "0.153\n"
     ]
    }
   ],
   "source": [
    "#Filtrar los datos\n",
    "sampleAFiltered = pd.concat([orders_by_usersA[np.logical_not(orders_by_usersA['visitor_id'].isin(abnormalUsers))]['orders'],pd.Series(0, index=np.arange(visits[visits['group']=='A']['visits'].sum() - len(orders_by_usersA['orders'])),name='orders')],axis=0)\n",
    "sampleBFiltered = pd.concat([orders_by_usersB[np.logical_not(orders_by_usersB['visitor_id'].isin(abnormalUsers))]['orders'],pd.Series(0, index=np.arange(visits[visits['group']=='B']['visits'].sum() - len(orders_by_usersB['orders'])),name='orders')],axis=0)\n",
    "\n",
    "print(\"{0:.3f}\".format(stats.mannwhitneyu(sampleAFiltered, sampleBFiltered)[1]))\n",
    "print(\"{0:.3f}\".format(sampleBFiltered.mean()/sampleAFiltered.mean()-1))"
   ]
  },
  {
   "cell_type": "markdown",
   "metadata": {},
   "source": [
    "Observaciones: El valor p es menor a 0.05, lo que indica que hay una diferencia estadísticamente significativa entre las distribuciones del número de pedidos por usuario entre los grupos A y B.\n",
    "Es decir, podemos rechazar la hipótesis nula y concluir que las distribuciones de los pedidos en los dos grupos son diferentes.\n",
    "\n",
    "El número promedio de pedidos por usuario en el grupo B es un 15.3% mayor que en el grupo A.\n",
    "Este incremento es estadísticamente significativo, lo que sugiere que, en promedio, el grupo B tiene más pedidos que el grupo A"
   ]
  },
  {
   "cell_type": "markdown",
   "metadata": {},
   "source": [
    "#### 12. Significancia estadística de la diferencia en el tamaño promedio de pedido entre los grupos utilizando los datos filtrados"
   ]
  },
  {
   "cell_type": "code",
   "execution_count": 64,
   "metadata": {},
   "outputs": [
    {
     "name": "stdout",
     "output_type": "stream",
     "text": [
      "0.819\n",
      "-0.006\n"
     ]
    }
   ],
   "source": [
    "# valor p calculado con la prueba U de Mann-Whitney\n",
    "print(\"{0:.3f}\".format(stats.mannwhitneyu(\n",
    "    orders[np.logical_and(\n",
    "        orders['group']=='A',  # Seleccionar datos en el grupo A\n",
    "        np.logical_not(orders['visitor_id'].isin(abnormalUsers)))]['revenue'],\n",
    "            # Excluir los usuarios anormales y selecciona los datos de ingreso para el grupo A\n",
    "    orders[np.logical_and(\n",
    "        orders['group']=='B',  # Seleccionar datos en el grupo B\n",
    "        np.logical_not(orders['visitor_id'].isin(abnormalUsers)))]['revenue']  # Excluye los usuarios anormales y selecciona los datos de ingreso para el grupo B\n",
    ")[1]))  # Extraer el valor p de los resultados de la prueba\n",
    "\n",
    "# Diferencia relativa en el ingreso medio entre los grupos B y A\n",
    "print(\"{0:.3f}\".format(\n",
    "    orders[np.logical_and(orders['group']=='B',  # Selecciona datos en el grupo B\n",
    "           np.logical_not(orders['visitor_id'].isin(abnormalUsers)))]['revenue'].mean() /  # Calcula el ingreso medio para el grupo B\n",
    "    orders[np.logical_and(orders['group']=='A',  # Selecciona datos en el grupo A\n",
    "           np.logical_not(orders['visitor_id'].isin(abnormalUsers)))]['revenue'].mean() - 1))  # Calcula el ingreso medio para el grupo A y muestra la diferencia relativa          "
   ]
  },
  {
   "cell_type": "markdown",
   "metadata": {},
   "source": [
    "Observaciones: No hay una diferencia estadísticamente significativa entre las distribuciones de ingresos de los grupos A y B. *\n",
    "Como el valor p es mucho mayor que 0.05, no podemos rechazar la hipótesis nula. Esto sugiere que las distribuciones de ingresos de ambos grupos podrían ser similares\n",
    "\n",
    "El ingreso promedio en el grupo B es 0.6% menor que en el grupo A.\n",
    "La diferencia es muy pequeña y negativa, lo que indica que el grupo B tiene un ingreso promedio ligeramente menor que el grupo A. Sin embargo, como ya se mencionó, esta diferencia no es estadísticamente significativa."
   ]
  },
  {
   "cell_type": "markdown",
   "metadata": {},
   "source": [
    "#### 13.  Toma de decision\n",
    "El valor p 0.819 es mucho mayor que el umbral típico de 0.05, lo que indica que no hay una diferencia estadísticamente significativa entre los ingresos de los grupos A y B.\n",
    "Aunque hay una ligera diferencia en los ingresos (-0.6%), es mínima. \n",
    "\n",
    "Basándonos en estos hechos, podemos concluir que la prueba no fue exitosa y debe pararse ya que no hay una diferencia estadísticamente significativa."
   ]
  }
 ],
 "metadata": {
  "ExecuteTimeLog": [
   {
    "duration": 297,
    "start_time": "2025-02-28T17:27:43.871Z"
   },
   {
    "duration": 11,
    "start_time": "2025-02-28T18:12:15.412Z"
   },
   {
    "duration": 10,
    "start_time": "2025-02-28T18:12:32.805Z"
   },
   {
    "duration": 6,
    "start_time": "2025-02-28T18:12:53.898Z"
   },
   {
    "duration": 8,
    "start_time": "2025-02-28T18:12:55.467Z"
   },
   {
    "duration": 16,
    "start_time": "2025-02-28T18:13:58.477Z"
   },
   {
    "duration": 9,
    "start_time": "2025-02-28T18:14:11.440Z"
   },
   {
    "duration": 16,
    "start_time": "2025-02-28T18:15:12.936Z"
   },
   {
    "duration": 8,
    "start_time": "2025-02-28T18:15:25.161Z"
   },
   {
    "duration": 5,
    "start_time": "2025-02-28T18:17:16.596Z"
   },
   {
    "duration": 176,
    "start_time": "2025-02-28T18:17:33.316Z"
   },
   {
    "duration": 2,
    "start_time": "2025-02-28T18:17:53.534Z"
   },
   {
    "duration": 13,
    "start_time": "2025-02-28T18:17:58.414Z"
   },
   {
    "duration": 15,
    "start_time": "2025-02-28T18:18:20.390Z"
   },
   {
    "duration": 9,
    "start_time": "2025-02-28T18:24:44.711Z"
   },
   {
    "duration": 9,
    "start_time": "2025-02-28T18:25:15.080Z"
   },
   {
    "duration": 7,
    "start_time": "2025-02-28T18:25:37.499Z"
   },
   {
    "duration": 7,
    "start_time": "2025-02-28T18:25:51.082Z"
   },
   {
    "duration": 8,
    "start_time": "2025-02-28T18:25:53.518Z"
   },
   {
    "duration": 8,
    "start_time": "2025-02-28T18:26:33.526Z"
   },
   {
    "duration": 7,
    "start_time": "2025-02-28T18:26:37.678Z"
   },
   {
    "duration": 7,
    "start_time": "2025-02-28T18:26:57.827Z"
   },
   {
    "duration": 4,
    "start_time": "2025-02-28T18:27:32.601Z"
   },
   {
    "duration": 6,
    "start_time": "2025-02-28T18:27:55.601Z"
   },
   {
    "duration": 7,
    "start_time": "2025-02-28T18:28:44.008Z"
   },
   {
    "duration": 5,
    "start_time": "2025-02-28T18:29:45.904Z"
   },
   {
    "duration": 6,
    "start_time": "2025-02-28T18:30:10.472Z"
   },
   {
    "duration": 7,
    "start_time": "2025-02-28T18:30:54.388Z"
   },
   {
    "duration": 8,
    "start_time": "2025-02-28T18:32:47.322Z"
   },
   {
    "duration": 7,
    "start_time": "2025-02-28T18:33:39.175Z"
   },
   {
    "duration": 7,
    "start_time": "2025-02-28T18:33:54.424Z"
   },
   {
    "duration": 6,
    "start_time": "2025-02-28T18:34:24.059Z"
   },
   {
    "duration": 7,
    "start_time": "2025-02-28T18:34:36.271Z"
   },
   {
    "duration": 2,
    "start_time": "2025-02-28T18:34:55.607Z"
   },
   {
    "duration": 15,
    "start_time": "2025-02-28T18:34:55.611Z"
   },
   {
    "duration": 8,
    "start_time": "2025-02-28T18:34:55.627Z"
   },
   {
    "duration": 8,
    "start_time": "2025-02-28T18:34:55.636Z"
   },
   {
    "duration": 8,
    "start_time": "2025-02-28T18:34:55.647Z"
   },
   {
    "duration": 5,
    "start_time": "2025-02-28T18:34:55.656Z"
   },
   {
    "duration": 5,
    "start_time": "2025-02-28T18:34:55.663Z"
   },
   {
    "duration": 36,
    "start_time": "2025-02-28T18:34:55.670Z"
   },
   {
    "duration": 6,
    "start_time": "2025-02-28T18:34:55.707Z"
   },
   {
    "duration": 7,
    "start_time": "2025-02-28T18:34:55.715Z"
   },
   {
    "duration": 6,
    "start_time": "2025-02-28T18:34:55.723Z"
   },
   {
    "duration": 7,
    "start_time": "2025-02-28T18:39:06.586Z"
   },
   {
    "duration": 7,
    "start_time": "2025-02-28T18:39:13.558Z"
   }
  ],
  "kernelspec": {
   "display_name": "Python 3",
   "language": "python",
   "name": "python3"
  },
  "language_info": {
   "codemirror_mode": {
    "name": "ipython",
    "version": 3
   },
   "file_extension": ".py",
   "mimetype": "text/x-python",
   "name": "python",
   "nbconvert_exporter": "python",
   "pygments_lexer": "ipython3",
   "version": "3.11.4"
  },
  "toc": {
   "base_numbering": 1,
   "nav_menu": {},
   "number_sections": true,
   "sideBar": true,
   "skip_h1_title": true,
   "title_cell": "Table of Contents",
   "title_sidebar": "Contents",
   "toc_cell": false,
   "toc_position": {},
   "toc_section_display": true,
   "toc_window_display": false
  }
 },
 "nbformat": 4,
 "nbformat_minor": 2
}
